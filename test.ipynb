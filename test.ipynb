{
 "cells": [
  {
   "cell_type": "code",
   "execution_count": 1,
   "metadata": {
    "collapsed": false
   },
   "outputs": [],
   "source": [
    "%load_ext autoreload"
   ]
  },
  {
   "cell_type": "markdown",
   "metadata": {},
   "source": [
    "## DSSM testing"
   ]
  },
  {
   "cell_type": "code",
   "execution_count": 16,
   "metadata": {
    "collapsed": true
   },
   "outputs": [],
   "source": [
    "n_head = 2\n",
    "seq_len = seq_len\n",
    "n_sen = 4\n",
    "d_k = d_v = 64\n",
    "n_rnn = 1"
   ]
  },
  {
   "cell_type": "code",
   "execution_count": 17,
   "metadata": {
    "collapsed": false
   },
   "outputs": [],
   "source": [
    "%autoreload\n",
    "from src.model import RecomModel\n",
    "rm = RecomModel(rnn_hidden_dim, rnn_hidden_dim, \n",
    "                n_head, seq_len, n_sen,\n",
    "                d_k, d_v,A\n",
    "                embed_model_wrapped,\n",
    "                embed_dim,\n",
    "                n_rnn,\n",
    "                fm_field_dims=[2]*fm_n, \n",
    "                fm_embed_dim=fm_embed_dim,\n",
    "                rnn_type='GRU',\n",
    "                fm_type='fm',\n",
    "                dropout=0.1,)"
   ]
  },
  {
   "cell_type": "code",
   "execution_count": 18,
   "metadata": {
    "collapsed": false
   },
   "outputs": [],
   "source": [
    "dssm_out = rm(text, bop)"
   ]
  },
  {
   "cell_type": "code",
   "execution_count": 19,
   "metadata": {
    "collapsed": false
   },
   "outputs": [
    {
     "data": {
      "text/plain": [
       "torch.Size([2, 20])"
      ]
     },
     "execution_count": 19,
     "metadata": {},
     "output_type": "execute_result"
    }
   ],
   "source": [
    "dssm_out.shape"
   ]
  },
  {
   "cell_type": "code",
   "execution_count": 20,
   "metadata": {
    "collapsed": false
   },
   "outputs": [
    {
     "data": {
      "text/plain": [
       "tensor([[ 1.1695,  0.3691,  0.5449, -0.0016,  0.3618,  0.0930,  0.5924,  0.0135,\n",
       "          0.0350,  0.2788,  0.0644,  0.5338,  0.0500,  0.5039,  0.4434, -0.2754,\n",
       "          0.5863,  0.0995,  0.6417, -0.0808],\n",
       "        [ 1.0850,  0.4091,  0.2870,  0.0464,  0.1272,  0.0292,  0.1008, -0.0152,\n",
       "          0.0320,  0.0865,  0.4006,  0.2102,  0.2628,  1.0070,  0.5608, -0.0365,\n",
       "          0.0985,  0.1187,  0.3364, -0.1904]], grad_fn=<MulBackward0>)"
      ]
     },
     "execution_count": 20,
     "metadata": {},
     "output_type": "execute_result"
    }
   ],
   "source": [
    "dssm_out"
   ]
  },
  {
   "cell_type": "code",
   "execution_count": null,
   "metadata": {
    "collapsed": true
   },
   "outputs": [],
   "source": []
  }
 ],
 "metadata": {
  "kernelspec": {
   "display_name": "Python 3",
   "language": "python",
   "name": "python3"
  },
  "language_info": {
   "codemirror_mode": {
    "name": "ipython",
    "version": 3
   },
   "file_extension": ".py",
   "mimetype": "text/x-python",
   "name": "python",
   "nbconvert_exporter": "python",
   "pygments_lexer": "ipython3",
   "version": "3.6.3"
  }
 },
 "nbformat": 4,
 "nbformat_minor": 4
}
